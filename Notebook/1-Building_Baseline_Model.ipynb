{
 "cells": [
  {
   "cell_type": "markdown",
   "metadata": {
    "id": "jxF2nsOGSUgr"
   },
   "source": [
    "## All required commands to install MLflow on EC2:\n",
    "\n",
    "https://github.com/entbappy/MLflow-Basic-Demo"
   ]
  },
  {
   "cell_type": "code",
   "execution_count": null,
   "metadata": {
    "colab": {
     "base_uri": "https://localhost:8080/"
    },
    "executionInfo": {
     "elapsed": 10148,
     "status": "ok",
     "timestamp": 1737786819744,
     "user": {
      "displayName": "Boktiar Ahmed Bappy",
      "userId": "04790107381113099102"
     },
     "user_tz": -360
    },
    "id": "OTr4F1Vj_OPp",
    "outputId": "c11df8a0-bf13-49d2-bbc7-14297eada62b"
   },
   "outputs": [
    {
     "name": "stdout",
     "output_type": "stream",
     "text": [
      "🏃 View run mysterious-sloth-996 at: http://ec2-3-22-77-89.us-east-2.compute.amazonaws.com:5000/#/experiments/0/runs/099164b0260449b5ae328cbf20eb3ab5\n",
      "🧪 View experiment at: http://ec2-3-22-77-89.us-east-2.compute.amazonaws.com:5000/#/experiments/0\n"
     ]
    }
   ],
   "source": [
    "# Test mlflow\n",
    "\n",
    "import mlflow\n",
    "\n",
    "mlflow.set_tracking_uri(\"http://ec2-18-117-12-49.us-east-2.compute.amazonaws.com:5000\")\n",
    "\n",
    "with mlflow.start_run():\n",
    "    mlflow.log_param(\"param1\", 15)\n",
    "    mlflow.log_metric(\"metric1\", 0.89)"
   ]
  },
  {
   "cell_type": "code",
   "execution_count": 2,
   "metadata": {
    "executionInfo": {
     "elapsed": 398,
     "status": "ok",
     "timestamp": 1737786858179,
     "user": {
      "displayName": "Boktiar Ahmed Bappy",
      "userId": "04790107381113099102"
     },
     "user_tz": -360
    },
    "id": "gT5_m6-_Rrad"
   },
   "outputs": [],
   "source": [
    "#creating baseline model\n",
    "\n",
    "import numpy as np\n",
    "import pandas as pd"
   ]
  },
  {
   "cell_type": "code",
   "execution_count": 3,
   "metadata": {
    "colab": {
     "base_uri": "https://localhost:8080/",
     "height": 206
    },
    "executionInfo": {
     "elapsed": 1399,
     "status": "ok",
     "timestamp": 1737786862811,
     "user": {
      "displayName": "Boktiar Ahmed Bappy",
      "userId": "04790107381113099102"
     },
     "user_tz": -360
    },
    "id": "u3hxNz36b6_7",
    "outputId": "c53a221d-fdf2-4ae8-e9b5-8ad6ba97f6c9"
   },
   "outputs": [
    {
     "data": {
      "text/html": [
       "<div>\n",
       "<style scoped>\n",
       "    .dataframe tbody tr th:only-of-type {\n",
       "        vertical-align: middle;\n",
       "    }\n",
       "\n",
       "    .dataframe tbody tr th {\n",
       "        vertical-align: top;\n",
       "    }\n",
       "\n",
       "    .dataframe thead th {\n",
       "        text-align: right;\n",
       "    }\n",
       "</style>\n",
       "<table border=\"1\" class=\"dataframe\">\n",
       "  <thead>\n",
       "    <tr style=\"text-align: right;\">\n",
       "      <th></th>\n",
       "      <th>clean_comment</th>\n",
       "      <th>category</th>\n",
       "    </tr>\n",
       "  </thead>\n",
       "  <tbody>\n",
       "    <tr>\n",
       "      <th>0</th>\n",
       "      <td>family mormon have never tried explain them t...</td>\n",
       "      <td>1</td>\n",
       "    </tr>\n",
       "    <tr>\n",
       "      <th>1</th>\n",
       "      <td>buddhism has very much lot compatible with chr...</td>\n",
       "      <td>1</td>\n",
       "    </tr>\n",
       "    <tr>\n",
       "      <th>2</th>\n",
       "      <td>seriously don say thing first all they won get...</td>\n",
       "      <td>-1</td>\n",
       "    </tr>\n",
       "    <tr>\n",
       "      <th>3</th>\n",
       "      <td>what you have learned yours and only yours wha...</td>\n",
       "      <td>0</td>\n",
       "    </tr>\n",
       "    <tr>\n",
       "      <th>4</th>\n",
       "      <td>for your own benefit you may want read living ...</td>\n",
       "      <td>1</td>\n",
       "    </tr>\n",
       "  </tbody>\n",
       "</table>\n",
       "</div>"
      ],
      "text/plain": [
       "                                       clean_comment  category\n",
       "0   family mormon have never tried explain them t...         1\n",
       "1  buddhism has very much lot compatible with chr...         1\n",
       "2  seriously don say thing first all they won get...        -1\n",
       "3  what you have learned yours and only yours wha...         0\n",
       "4  for your own benefit you may want read living ...         1"
      ]
     },
     "execution_count": 3,
     "metadata": {},
     "output_type": "execute_result"
    }
   ],
   "source": [
    "df = pd.read_csv('https://raw.githubusercontent.com/patelshehbaz/Youtube-Sentiment-Insights/refs/heads/main/data/reddit.csv')\n",
    "df.head()"
   ]
  },
  {
   "cell_type": "code",
   "execution_count": 4,
   "metadata": {
    "executionInfo": {
     "elapsed": 2,
     "status": "ok",
     "timestamp": 1737786870642,
     "user": {
      "displayName": "Boktiar Ahmed Bappy",
      "userId": "04790107381113099102"
     },
     "user_tz": -360
    },
    "id": "-Apko0jpb87p"
   },
   "outputs": [],
   "source": [
    "df.dropna(inplace=True)"
   ]
  },
  {
   "cell_type": "code",
   "execution_count": 5,
   "metadata": {
    "executionInfo": {
     "elapsed": 396,
     "status": "ok",
     "timestamp": 1737786872855,
     "user": {
      "displayName": "Boktiar Ahmed Bappy",
      "userId": "04790107381113099102"
     },
     "user_tz": -360
    },
    "id": "BIzRs9YZcAlR"
   },
   "outputs": [],
   "source": [
    "df.drop_duplicates(inplace=True)"
   ]
  },
  {
   "cell_type": "code",
   "execution_count": 6,
   "metadata": {
    "executionInfo": {
     "elapsed": 1,
     "status": "ok",
     "timestamp": 1737786874552,
     "user": {
      "displayName": "Boktiar Ahmed Bappy",
      "userId": "04790107381113099102"
     },
     "user_tz": -360
    },
    "id": "BDy25RHPcDQH"
   },
   "outputs": [],
   "source": [
    "df = df[~(df['clean_comment'].str.strip() == '')]"
   ]
  },
  {
   "cell_type": "code",
   "execution_count": 7,
   "metadata": {
    "executionInfo": {
     "elapsed": 4034,
     "status": "ok",
     "timestamp": 1737786879660,
     "user": {
      "displayName": "Boktiar Ahmed Bappy",
      "userId": "04790107381113099102"
     },
     "user_tz": -360
    },
    "id": "RS5937JRcFZY"
   },
   "outputs": [],
   "source": [
    "import re\n",
    "import nltk\n",
    "from nltk.corpus import stopwords\n",
    "from nltk.stem import WordNetLemmatizer"
   ]
  },
  {
   "cell_type": "code",
   "execution_count": 8,
   "metadata": {
    "colab": {
     "base_uri": "https://localhost:8080/"
    },
    "executionInfo": {
     "elapsed": 1,
     "status": "ok",
     "timestamp": 1737786879660,
     "user": {
      "displayName": "Boktiar Ahmed Bappy",
      "userId": "04790107381113099102"
     },
     "user_tz": -360
    },
    "id": "j_um_s1pc2Bo",
    "outputId": "26bb85bf-941a-45f1-88d0-0632bd5e22f9"
   },
   "outputs": [
    {
     "name": "stderr",
     "output_type": "stream",
     "text": [
      "[nltk_data] Downloading package stopwords to\n",
      "[nltk_data]     /Users/shehbazpatel/nltk_data...\n",
      "[nltk_data]   Package stopwords is already up-to-date!\n",
      "[nltk_data] Downloading package wordnet to\n",
      "[nltk_data]     /Users/shehbazpatel/nltk_data...\n",
      "[nltk_data]   Package wordnet is already up-to-date!\n"
     ]
    },
    {
     "data": {
      "text/plain": [
       "True"
      ]
     },
     "execution_count": 8,
     "metadata": {},
     "output_type": "execute_result"
    }
   ],
   "source": [
    "# Ensure necessary NLTK data is downloaded\n",
    "nltk.download('stopwords')\n",
    "nltk.download('wordnet')"
   ]
  },
  {
   "cell_type": "code",
   "execution_count": 9,
   "metadata": {
    "executionInfo": {
     "elapsed": 682,
     "status": "ok",
     "timestamp": 1737786886276,
     "user": {
      "displayName": "Boktiar Ahmed Bappy",
      "userId": "04790107381113099102"
     },
     "user_tz": -360
    },
    "id": "zsbpkHfIc39y"
   },
   "outputs": [],
   "source": [
    "# Define the preprocessing function\n",
    "def preprocess_comment(comment):\n",
    "    # Convert to lowercase\n",
    "    comment = comment.lower()\n",
    "\n",
    "    # Remove trailing and leading whitespaces\n",
    "    comment = comment.strip()\n",
    "\n",
    "    # Remove newline characters\n",
    "    comment = re.sub(r'\\n', ' ', comment)\n",
    "\n",
    "    # Remove non-alphanumeric characters, except punctuation\n",
    "    comment = re.sub(r'[^A-Za-z0-9\\s!?.,]', '', comment)\n",
    "\n",
    "    # Remove stopwords but retain important ones for sentiment analysis\n",
    "    stop_words = set(stopwords.words('english')) - {'not', 'but', 'however', 'no', 'yet'}\n",
    "    comment = ' '.join([word for word in comment.split() if word not in stop_words])\n",
    "\n",
    "    # Lemmatize the words\n",
    "    lemmatizer = WordNetLemmatizer()\n",
    "    comment = ' '.join([lemmatizer.lemmatize(word) for word in comment.split()])\n",
    "\n",
    "    return comment"
   ]
  },
  {
   "cell_type": "code",
   "execution_count": 10,
   "metadata": {
    "executionInfo": {
     "elapsed": 14500,
     "status": "ok",
     "timestamp": 1737786903535,
     "user": {
      "displayName": "Boktiar Ahmed Bappy",
      "userId": "04790107381113099102"
     },
     "user_tz": -360
    },
    "id": "3I0cY3nNc6wK"
   },
   "outputs": [],
   "source": [
    "# Apply the preprocessing function to the 'clean_comment' column\n",
    "df['clean_comment'] = df['clean_comment'].apply(preprocess_comment)"
   ]
  },
  {
   "cell_type": "code",
   "execution_count": 11,
   "metadata": {
    "colab": {
     "base_uri": "https://localhost:8080/",
     "height": 206
    },
    "executionInfo": {
     "elapsed": 442,
     "status": "ok",
     "timestamp": 1737786905823,
     "user": {
      "displayName": "Boktiar Ahmed Bappy",
      "userId": "04790107381113099102"
     },
     "user_tz": -360
    },
    "id": "rQoUyz9Rc9Az",
    "outputId": "2f1422b4-5980-491f-be3e-eb1e5037a058"
   },
   "outputs": [
    {
     "data": {
      "text/html": [
       "<div>\n",
       "<style scoped>\n",
       "    .dataframe tbody tr th:only-of-type {\n",
       "        vertical-align: middle;\n",
       "    }\n",
       "\n",
       "    .dataframe tbody tr th {\n",
       "        vertical-align: top;\n",
       "    }\n",
       "\n",
       "    .dataframe thead th {\n",
       "        text-align: right;\n",
       "    }\n",
       "</style>\n",
       "<table border=\"1\" class=\"dataframe\">\n",
       "  <thead>\n",
       "    <tr style=\"text-align: right;\">\n",
       "      <th></th>\n",
       "      <th>clean_comment</th>\n",
       "      <th>category</th>\n",
       "    </tr>\n",
       "  </thead>\n",
       "  <tbody>\n",
       "    <tr>\n",
       "      <th>0</th>\n",
       "      <td>family mormon never tried explain still stare ...</td>\n",
       "      <td>1</td>\n",
       "    </tr>\n",
       "    <tr>\n",
       "      <th>1</th>\n",
       "      <td>buddhism much lot compatible christianity espe...</td>\n",
       "      <td>1</td>\n",
       "    </tr>\n",
       "    <tr>\n",
       "      <th>2</th>\n",
       "      <td>seriously say thing first get complex explain ...</td>\n",
       "      <td>-1</td>\n",
       "    </tr>\n",
       "    <tr>\n",
       "      <th>3</th>\n",
       "      <td>learned want teach different focus goal not wr...</td>\n",
       "      <td>0</td>\n",
       "    </tr>\n",
       "    <tr>\n",
       "      <th>4</th>\n",
       "      <td>benefit may want read living buddha living chr...</td>\n",
       "      <td>1</td>\n",
       "    </tr>\n",
       "  </tbody>\n",
       "</table>\n",
       "</div>"
      ],
      "text/plain": [
       "                                       clean_comment  category\n",
       "0  family mormon never tried explain still stare ...         1\n",
       "1  buddhism much lot compatible christianity espe...         1\n",
       "2  seriously say thing first get complex explain ...        -1\n",
       "3  learned want teach different focus goal not wr...         0\n",
       "4  benefit may want read living buddha living chr...         1"
      ]
     },
     "execution_count": 11,
     "metadata": {},
     "output_type": "execute_result"
    }
   ],
   "source": [
    "df.head()"
   ]
  },
  {
   "cell_type": "code",
   "execution_count": 12,
   "metadata": {
    "executionInfo": {
     "elapsed": 1656,
     "status": "ok",
     "timestamp": 1737786948945,
     "user": {
      "displayName": "Boktiar Ahmed Bappy",
      "userId": "04790107381113099102"
     },
     "user_tz": -360
    },
    "id": "GRF5A1ZCdBck"
   },
   "outputs": [],
   "source": [
    "import mlflow\n",
    "import mlflow.sklearn\n",
    "from sklearn.ensemble import RandomForestClassifier\n",
    "from sklearn.feature_extraction.text import CountVectorizer\n",
    "from sklearn.model_selection import train_test_split, cross_val_predict, StratifiedKFold\n",
    "from sklearn.metrics import accuracy_score, classification_report, confusion_matrix\n",
    "import pandas as pd\n",
    "import matplotlib.pyplot as plt\n",
    "import seaborn as sns"
   ]
  },
  {
   "cell_type": "code",
   "execution_count": 13,
   "metadata": {
    "executionInfo": {
     "elapsed": 506,
     "status": "ok",
     "timestamp": 1737786958539,
     "user": {
      "displayName": "Boktiar Ahmed Bappy",
      "userId": "04790107381113099102"
     },
     "user_tz": -360
    },
    "id": "EAKFpLNig7B2"
   },
   "outputs": [],
   "source": [
    "# Step 1: Vectorize the comments using Bag of Words (CountVectorizer)\n",
    "vectorizer = CountVectorizer(max_features=10000)  # Bag of Words model with a limit of 1000 features"
   ]
  },
  {
   "cell_type": "code",
   "execution_count": 14,
   "metadata": {
    "executionInfo": {
     "elapsed": 4915,
     "status": "ok",
     "timestamp": 1737786966745,
     "user": {
      "displayName": "Boktiar Ahmed Bappy",
      "userId": "04790107381113099102"
     },
     "user_tz": -360
    },
    "id": "DEbBOYO9g-jq"
   },
   "outputs": [],
   "source": [
    "X = vectorizer.fit_transform(df['clean_comment']).toarray()\n",
    "y = df['category']  # Assuming 'sentiment' is the target variable (0 or 1 for binary classification)"
   ]
  },
  {
   "cell_type": "code",
   "execution_count": 15,
   "metadata": {
    "colab": {
     "base_uri": "https://localhost:8080/"
    },
    "executionInfo": {
     "elapsed": 2,
     "status": "ok",
     "timestamp": 1737786966745,
     "user": {
      "displayName": "Boktiar Ahmed Bappy",
      "userId": "04790107381113099102"
     },
     "user_tz": -360
    },
    "id": "_clGUqHEhBf0",
    "outputId": "d73c9c49-ddf0-4601-a3e6-d2be04dd3d2a"
   },
   "outputs": [
    {
     "data": {
      "text/plain": [
       "array([[0, 0, 0, ..., 0, 0, 0],\n",
       "       [0, 0, 0, ..., 0, 0, 0],\n",
       "       [0, 0, 0, ..., 0, 0, 0],\n",
       "       ...,\n",
       "       [0, 0, 0, ..., 0, 0, 0],\n",
       "       [0, 0, 0, ..., 0, 0, 0],\n",
       "       [0, 0, 0, ..., 0, 0, 0]])"
      ]
     },
     "execution_count": 15,
     "metadata": {},
     "output_type": "execute_result"
    }
   ],
   "source": [
    "X"
   ]
  },
  {
   "cell_type": "code",
   "execution_count": 16,
   "metadata": {
    "colab": {
     "base_uri": "https://localhost:8080/"
    },
    "executionInfo": {
     "elapsed": 421,
     "status": "ok",
     "timestamp": 1737786969469,
     "user": {
      "displayName": "Boktiar Ahmed Bappy",
      "userId": "04790107381113099102"
     },
     "user_tz": -360
    },
    "id": "SFtHOYDehF3A",
    "outputId": "4f927672-9b74-4ece-c090-96d930df5272"
   },
   "outputs": [
    {
     "data": {
      "text/plain": [
       "(36793, 10000)"
      ]
     },
     "execution_count": 16,
     "metadata": {},
     "output_type": "execute_result"
    }
   ],
   "source": [
    "X.shape"
   ]
  },
  {
   "cell_type": "code",
   "execution_count": 17,
   "metadata": {
    "colab": {
     "base_uri": "https://localhost:8080/",
     "height": 458
    },
    "executionInfo": {
     "elapsed": 418,
     "status": "ok",
     "timestamp": 1737786971670,
     "user": {
      "displayName": "Boktiar Ahmed Bappy",
      "userId": "04790107381113099102"
     },
     "user_tz": -360
    },
    "id": "bXvMvOOshMlc",
    "outputId": "5d7ded11-3a27-4b19-baa5-f55e38cd7da5"
   },
   "outputs": [
    {
     "data": {
      "text/plain": [
       "0        1\n",
       "1        1\n",
       "2       -1\n",
       "3        0\n",
       "4        1\n",
       "        ..\n",
       "37244    0\n",
       "37245    1\n",
       "37246    0\n",
       "37247    1\n",
       "37248    0\n",
       "Name: category, Length: 36793, dtype: int64"
      ]
     },
     "execution_count": 17,
     "metadata": {},
     "output_type": "execute_result"
    }
   ],
   "source": [
    "y"
   ]
  },
  {
   "cell_type": "code",
   "execution_count": 18,
   "metadata": {
    "colab": {
     "base_uri": "https://localhost:8080/"
    },
    "executionInfo": {
     "elapsed": 637,
     "status": "ok",
     "timestamp": 1737786988827,
     "user": {
      "displayName": "Boktiar Ahmed Bappy",
      "userId": "04790107381113099102"
     },
     "user_tz": -360
    },
    "id": "efCnt68yhNs8",
    "outputId": "da580911-81ab-44e4-d0eb-e14782a9c167"
   },
   "outputs": [
    {
     "data": {
      "text/plain": [
       "(36793,)"
      ]
     },
     "execution_count": 18,
     "metadata": {},
     "output_type": "execute_result"
    }
   ],
   "source": [
    "y.shape"
   ]
  },
  {
   "cell_type": "code",
   "execution_count": 21,
   "metadata": {
    "executionInfo": {
     "elapsed": 1,
     "status": "ok",
     "timestamp": 1737787011333,
     "user": {
      "displayName": "Boktiar Ahmed Bappy",
      "userId": "04790107381113099102"
     },
     "user_tz": -360
    },
    "id": "op6TubXQhPfw"
   },
   "outputs": [],
   "source": [
    "# Step 2: Set up the MLflow tracking server\n",
    "mlflow.set_tracking_uri(\"http://ec2-18-117-12-49.us-east-2.compute.amazonaws.com:5000\")"
   ]
  },
  {
   "cell_type": "code",
   "execution_count": 22,
   "metadata": {
    "colab": {
     "base_uri": "https://localhost:8080/"
    },
    "executionInfo": {
     "elapsed": 792,
     "status": "ok",
     "timestamp": 1737787033757,
     "user": {
      "displayName": "Boktiar Ahmed Bappy",
      "userId": "04790107381113099102"
     },
     "user_tz": -360
    },
    "id": "PIyYuCwVhUeE",
    "outputId": "55fdb857-e2d4-4cad-894a-38fce6b06621"
   },
   "outputs": [
    {
     "name": "stderr",
     "output_type": "stream",
     "text": [
      "2025/01/30 13:44:50 INFO mlflow.tracking.fluent: Experiment with name 'Ex-1: RF Baseline' does not exist. Creating a new experiment.\n"
     ]
    },
    {
     "data": {
      "text/plain": [
       "<Experiment: artifact_location='s3://mlflow-bucket-30/692579244995167986', creation_time=1738262690073, experiment_id='692579244995167986', last_update_time=1738262690073, lifecycle_stage='active', name='Ex-1: RF Baseline', tags={}>"
      ]
     },
     "execution_count": 22,
     "metadata": {},
     "output_type": "execute_result"
    }
   ],
   "source": [
    "# Set or create an experiment\n",
    "mlflow.set_experiment(\"Ex-1: RF Baseline\")"
   ]
  },
  {
   "cell_type": "code",
   "execution_count": 23,
   "metadata": {
    "colab": {
     "base_uri": "https://localhost:8080/"
    },
    "executionInfo": {
     "elapsed": 7746,
     "status": "ok",
     "timestamp": 1737787058191,
     "user": {
      "displayName": "Boktiar Ahmed Bappy",
      "userId": "04790107381113099102"
     },
     "user_tz": -360
    },
    "id": "QOJLJ57N4lso",
    "outputId": "fe0105eb-27f8-4278-de95-508e45f8b9a7"
   },
   "outputs": [
    {
     "name": "stdout",
     "output_type": "stream",
     "text": [
      "Requirement already satisfied: boto3 in /Users/shehbazpatel/Documents/euron-project/Youtube-Sentiment-Insights/venv/lib/python3.9/site-packages (1.36.9)\n",
      "Requirement already satisfied: botocore<1.37.0,>=1.36.9 in /Users/shehbazpatel/Documents/euron-project/Youtube-Sentiment-Insights/venv/lib/python3.9/site-packages (from boto3) (1.36.9)\n",
      "Requirement already satisfied: jmespath<2.0.0,>=0.7.1 in /Users/shehbazpatel/Documents/euron-project/Youtube-Sentiment-Insights/venv/lib/python3.9/site-packages (from boto3) (1.0.1)\n",
      "Requirement already satisfied: s3transfer<0.12.0,>=0.11.0 in /Users/shehbazpatel/Documents/euron-project/Youtube-Sentiment-Insights/venv/lib/python3.9/site-packages (from boto3) (0.11.2)\n",
      "Requirement already satisfied: python-dateutil<3.0.0,>=2.1 in /Users/shehbazpatel/Documents/euron-project/Youtube-Sentiment-Insights/venv/lib/python3.9/site-packages (from botocore<1.37.0,>=1.36.9->boto3) (2.9.0.post0)\n",
      "Requirement already satisfied: urllib3<1.27,>=1.25.4 in /Users/shehbazpatel/Documents/euron-project/Youtube-Sentiment-Insights/venv/lib/python3.9/site-packages (from botocore<1.37.0,>=1.36.9->boto3) (1.26.20)\n",
      "Requirement already satisfied: six>=1.5 in /Users/shehbazpatel/Documents/euron-project/Youtube-Sentiment-Insights/venv/lib/python3.9/site-packages (from python-dateutil<3.0.0,>=2.1->botocore<1.37.0,>=1.36.9->boto3) (1.17.0)\n"
     ]
    }
   ],
   "source": [
    "!pip install boto3"
   ]
  },
  {
   "cell_type": "code",
   "execution_count": 24,
   "metadata": {
    "colab": {
     "base_uri": "https://localhost:8080/"
    },
    "executionInfo": {
     "elapsed": 14540,
     "status": "ok",
     "timestamp": 1737787072729,
     "user": {
      "displayName": "Boktiar Ahmed Bappy",
      "userId": "04790107381113099102"
     },
     "user_tz": -360
    },
    "id": "RKy5_QuH4m9x",
    "outputId": "279cff3c-cb74-49e7-cf06-f28cfd0aa8a8"
   },
   "outputs": [
    {
     "name": "stdout",
     "output_type": "stream",
     "text": [
      "Collecting awscli\n",
      "  Downloading awscli-1.37.9-py3-none-any.whl.metadata (11 kB)\n",
      "Requirement already satisfied: botocore==1.36.9 in /Users/shehbazpatel/Documents/euron-project/Youtube-Sentiment-Insights/venv/lib/python3.9/site-packages (from awscli) (1.36.9)\n",
      "Collecting docutils<0.17,>=0.10 (from awscli)\n",
      "  Using cached docutils-0.16-py2.py3-none-any.whl.metadata (2.7 kB)\n",
      "Requirement already satisfied: s3transfer<0.12.0,>=0.11.0 in /Users/shehbazpatel/Documents/euron-project/Youtube-Sentiment-Insights/venv/lib/python3.9/site-packages (from awscli) (0.11.2)\n",
      "Requirement already satisfied: PyYAML<6.1,>=3.10 in /Users/shehbazpatel/Documents/euron-project/Youtube-Sentiment-Insights/venv/lib/python3.9/site-packages (from awscli) (6.0.2)\n",
      "Collecting colorama<0.4.7,>=0.2.5 (from awscli)\n",
      "  Using cached colorama-0.4.6-py2.py3-none-any.whl.metadata (17 kB)\n",
      "Collecting rsa<4.8,>=3.1.2 (from awscli)\n",
      "  Using cached rsa-4.7.2-py3-none-any.whl.metadata (3.6 kB)\n",
      "Requirement already satisfied: jmespath<2.0.0,>=0.7.1 in /Users/shehbazpatel/Documents/euron-project/Youtube-Sentiment-Insights/venv/lib/python3.9/site-packages (from botocore==1.36.9->awscli) (1.0.1)\n",
      "Requirement already satisfied: python-dateutil<3.0.0,>=2.1 in /Users/shehbazpatel/Documents/euron-project/Youtube-Sentiment-Insights/venv/lib/python3.9/site-packages (from botocore==1.36.9->awscli) (2.9.0.post0)\n",
      "Requirement already satisfied: urllib3<1.27,>=1.25.4 in /Users/shehbazpatel/Documents/euron-project/Youtube-Sentiment-Insights/venv/lib/python3.9/site-packages (from botocore==1.36.9->awscli) (1.26.20)\n",
      "Requirement already satisfied: pyasn1>=0.1.3 in /Users/shehbazpatel/Documents/euron-project/Youtube-Sentiment-Insights/venv/lib/python3.9/site-packages (from rsa<4.8,>=3.1.2->awscli) (0.6.1)\n",
      "Requirement already satisfied: six>=1.5 in /Users/shehbazpatel/Documents/euron-project/Youtube-Sentiment-Insights/venv/lib/python3.9/site-packages (from python-dateutil<3.0.0,>=2.1->botocore==1.36.9->awscli) (1.17.0)\n",
      "Downloading awscli-1.37.9-py3-none-any.whl (4.6 MB)\n",
      "\u001b[2K   \u001b[90m━━━━━━━━━━━━━━━━━━━━━━━━━━━━━━━━━━━━━━━━\u001b[0m \u001b[32m4.6/4.6 MB\u001b[0m \u001b[31m56.4 MB/s\u001b[0m eta \u001b[36m0:00:00\u001b[0m\n",
      "\u001b[?25hUsing cached colorama-0.4.6-py2.py3-none-any.whl (25 kB)\n",
      "Using cached docutils-0.16-py2.py3-none-any.whl (548 kB)\n",
      "Using cached rsa-4.7.2-py3-none-any.whl (34 kB)\n",
      "Installing collected packages: rsa, docutils, colorama, awscli\n",
      "  Attempting uninstall: rsa\n",
      "    Found existing installation: rsa 4.9\n",
      "    Uninstalling rsa-4.9:\n",
      "      Successfully uninstalled rsa-4.9\n",
      "Successfully installed awscli-1.37.9 colorama-0.4.6 docutils-0.16 rsa-4.7.2\n"
     ]
    }
   ],
   "source": [
    "!pip install awscli"
   ]
  },
  {
   "cell_type": "code",
   "execution_count": 25,
   "metadata": {
    "colab": {
     "base_uri": "https://localhost:8080/"
    },
    "executionInfo": {
     "elapsed": 25679,
     "status": "ok",
     "timestamp": 1737787115016,
     "user": {
      "displayName": "Boktiar Ahmed Bappy",
      "userId": "04790107381113099102"
     },
     "user_tz": -360
    },
    "id": "eRdwyDq44xlK",
    "outputId": "682fa2af-50a0-42d0-d9d0-8e3462ef72d9"
   },
   "outputs": [
    {
     "name": "stdout",
     "output_type": "stream",
     "text": [
      "AWS Access Key ID [****************UBBJ]: ^C\n",
      "\n"
     ]
    }
   ],
   "source": [
    "!aws configure"
   ]
  },
  {
   "cell_type": "code",
   "execution_count": 28,
   "metadata": {},
   "outputs": [],
   "source": [
    "import os"
   ]
  },
  {
   "cell_type": "code",
   "execution_count": 29,
   "metadata": {},
   "outputs": [
    {
     "name": "stdout",
     "output_type": "stream",
     "text": [
      "✅ File exists, proceeding with logging...\n"
     ]
    }
   ],
   "source": [
    "file_path = \"confusion_matrix.png\"\n",
    "\n",
    "if os.path.exists(file_path):\n",
    "    print(\"✅ File exists, proceeding with logging...\")\n",
    "    mlflow.log_artifact(file_path)\n",
    "else:\n",
    "    print(\"❌ Error: Confusion matrix file NOT found! Check plt.savefig() path.\")"
   ]
  },
  {
   "cell_type": "code",
   "execution_count": 31,
   "metadata": {
    "colab": {
     "base_uri": "https://localhost:8080/",
     "height": 653
    },
    "executionInfo": {
     "elapsed": 98456,
     "status": "ok",
     "timestamp": 1737787291621,
     "user": {
      "displayName": "Boktiar Ahmed Bappy",
      "userId": "04790107381113099102"
     },
     "user_tz": -360
    },
    "id": "7CyCPT6IhWET",
    "outputId": "bc7439da-ae9f-4ad5-9ac2-e07011b480ab"
   },
   "outputs": [
    {
     "name": "stdout",
     "output_type": "stream",
     "text": [
      "🏃 View run languid-vole-602 at: http://ec2-18-117-12-49.us-east-2.compute.amazonaws.com:5000/#/experiments/692579244995167986/runs/72be9d3913ef406c89665c816e593ac3\n",
      "🧪 View experiment at: http://ec2-18-117-12-49.us-east-2.compute.amazonaws.com:5000/#/experiments/692579244995167986\n"
     ]
    },
    {
     "name": "stderr",
     "output_type": "stream",
     "text": [
      "\u001b[31m2025/01/30 14:00:18 WARNING mlflow.models.model: Model logged without a signature and input example. Please set `input_example` parameter when logging the model to auto infer the model signature.\u001b[0m\n"
     ]
    },
    {
     "name": "stdout",
     "output_type": "stream",
     "text": [
      "🏃 View run RandomForest_Baseline_TrainTestSplit at: http://ec2-18-117-12-49.us-east-2.compute.amazonaws.com:5000/#/experiments/692579244995167986/runs/6394406777894b62b91b8a818d095f38\n",
      "🧪 View experiment at: http://ec2-18-117-12-49.us-east-2.compute.amazonaws.com:5000/#/experiments/692579244995167986\n",
      "Accuracy: 0.6483217828509308\n"
     ]
    }
   ],
   "source": [
    "# Ensure any previous run is closed\n",
    "mlflow.end_run()\n",
    "\n",
    "# Step 1: Split the data into training and testing sets (80% train, 20% test)\n",
    "X_train, X_test, y_train, y_test = train_test_split(X, y, test_size=0.2, random_state=42, stratify=y)\n",
    "\n",
    "# Step 2: Define and train a Random Forest baseline model using a simple train-test split\n",
    "with mlflow.start_run() as run:\n",
    "    # Log a description for the run\n",
    "    mlflow.set_tag(\"mlflow.runName\", \"RandomForest_Baseline_TrainTestSplit\")\n",
    "    mlflow.set_tag(\"experiment_type\", \"baseline\")\n",
    "    mlflow.set_tag(\"model_type\", \"RandomForestClassifier\")\n",
    "\n",
    "    # Add a description\n",
    "    mlflow.set_tag(\"description\", \"Baseline RandomForest model for sentiment analysis using Bag of Words (BoW) with a simple train-test split\")\n",
    "\n",
    "    # Log parameters for the vectorizer\n",
    "    mlflow.log_param(\"vectorizer_type\", \"CountVectorizer\")\n",
    "    mlflow.log_param(\"vectorizer_max_features\", vectorizer.max_features)\n",
    "\n",
    "    # Log Random Forest parameters\n",
    "    n_estimators = 200\n",
    "    max_depth = 15\n",
    "\n",
    "    mlflow.log_param(\"n_estimators\", n_estimators)\n",
    "    mlflow.log_param(\"max_depth\", max_depth)\n",
    "\n",
    "    # Initialize and train the model\n",
    "    model = RandomForestClassifier(n_estimators=n_estimators, max_depth=max_depth, random_state=42)\n",
    "    model.fit(X_train, y_train)\n",
    "\n",
    "    # Make predictions on the test set\n",
    "    y_pred = model.predict(X_test)\n",
    "\n",
    "    # Log metrics for each class and accuracy\n",
    "    accuracy = accuracy_score(y_test, y_pred)\n",
    "    mlflow.log_metric(\"accuracy\", accuracy)\n",
    "\n",
    "    classification_rep = classification_report(y_test, y_pred, output_dict=True)\n",
    "\n",
    "    for label, metrics in classification_rep.items():\n",
    "        if isinstance(metrics, dict):  # For precision, recall, f1-score, etc.\n",
    "            for metric, value in metrics.items():\n",
    "                mlflow.log_metric(f\"{label}_{metric}\", value)\n",
    "\n",
    "    # Confusion matrix plot\n",
    "    conf_matrix = confusion_matrix(y_test, y_pred)\n",
    "    plt.figure(figsize=(8, 6))\n",
    "    sns.heatmap(conf_matrix, annot=True, fmt=\"d\", cmap=\"Blues\")\n",
    "    plt.xlabel(\"Predicted\")\n",
    "    plt.ylabel(\"Actual\")\n",
    "    plt.title(\"Confusion Matrix\")\n",
    "\n",
    "    # Save and log the confusion matrix plot\n",
    "    plt.savefig(\"confusion_matrix.png\", bbox_inches=\"tight\")\n",
    "    plt.close()  # Ensures the file is properly written before logging\n",
    "\n",
    "    mlflow.log_artifact(os.path.abspath(\"confusion_matrix.png\"))\n",
    "\n",
    "    # Log the Random Forest model\n",
    "    mlflow.sklearn.log_model(model, \"random_forest_model\")\n",
    "\n",
    "    # Optionally log the dataset itself (if it's small enough)\n",
    "    df.to_csv(\"dataset.csv\", index=False)\n",
    "    mlflow.log_artifact(os.path.abspath(\"dataset.csv\"))\n",
    "\n",
    "# Display final accuracy\n",
    "print(f\"Accuracy: {accuracy}\")"
   ]
  },
  {
   "cell_type": "code",
   "execution_count": 32,
   "metadata": {
    "colab": {
     "base_uri": "https://localhost:8080/"
    },
    "executionInfo": {
     "elapsed": 577,
     "status": "ok",
     "timestamp": 1737787307671,
     "user": {
      "displayName": "Boktiar Ahmed Bappy",
      "userId": "04790107381113099102"
     },
     "user_tz": -360
    },
    "id": "4dEHQmkMcbsF",
    "outputId": "bb452f5a-13af-484d-c269-0d534d32a7b6"
   },
   "outputs": [
    {
     "name": "stdout",
     "output_type": "stream",
     "text": [
      "              precision    recall  f1-score   support\n",
      "\n",
      "          -1       1.00      0.01      0.01      1650\n",
      "           0       0.67      0.83      0.74      2555\n",
      "           1       0.63      0.84      0.72      3154\n",
      "\n",
      "    accuracy                           0.65      7359\n",
      "   macro avg       0.77      0.56      0.49      7359\n",
      "weighted avg       0.73      0.65      0.57      7359\n",
      "\n"
     ]
    }
   ],
   "source": [
    "print(classification_report(y_test, y_pred))"
   ]
  },
  {
   "cell_type": "code",
   "execution_count": 33,
   "metadata": {
    "executionInfo": {
     "elapsed": 619,
     "status": "ok",
     "timestamp": 1737787382025,
     "user": {
      "displayName": "Boktiar Ahmed Bappy",
      "userId": "04790107381113099102"
     },
     "user_tz": -360
    },
    "id": "3FJARjXcckS6"
   },
   "outputs": [],
   "source": [
    "df.to_csv('reddit_preprocessing.csv', index=False)"
   ]
  },
  {
   "cell_type": "code",
   "execution_count": 34,
   "metadata": {
    "colab": {
     "base_uri": "https://localhost:8080/",
     "height": 206
    },
    "executionInfo": {
     "elapsed": 452,
     "status": "ok",
     "timestamp": 1737787394661,
     "user": {
      "displayName": "Boktiar Ahmed Bappy",
      "userId": "04790107381113099102"
     },
     "user_tz": -360
    },
    "id": "SnJl6IRhi38R",
    "outputId": "8d1bcfbb-3256-4238-b6b6-b803e99ad689"
   },
   "outputs": [
    {
     "data": {
      "text/html": [
       "<div>\n",
       "<style scoped>\n",
       "    .dataframe tbody tr th:only-of-type {\n",
       "        vertical-align: middle;\n",
       "    }\n",
       "\n",
       "    .dataframe tbody tr th {\n",
       "        vertical-align: top;\n",
       "    }\n",
       "\n",
       "    .dataframe thead th {\n",
       "        text-align: right;\n",
       "    }\n",
       "</style>\n",
       "<table border=\"1\" class=\"dataframe\">\n",
       "  <thead>\n",
       "    <tr style=\"text-align: right;\">\n",
       "      <th></th>\n",
       "      <th>clean_comment</th>\n",
       "      <th>category</th>\n",
       "    </tr>\n",
       "  </thead>\n",
       "  <tbody>\n",
       "    <tr>\n",
       "      <th>0</th>\n",
       "      <td>family mormon never tried explain still stare ...</td>\n",
       "      <td>1</td>\n",
       "    </tr>\n",
       "    <tr>\n",
       "      <th>1</th>\n",
       "      <td>buddhism much lot compatible christianity espe...</td>\n",
       "      <td>1</td>\n",
       "    </tr>\n",
       "    <tr>\n",
       "      <th>2</th>\n",
       "      <td>seriously say thing first get complex explain ...</td>\n",
       "      <td>-1</td>\n",
       "    </tr>\n",
       "    <tr>\n",
       "      <th>3</th>\n",
       "      <td>learned want teach different focus goal not wr...</td>\n",
       "      <td>0</td>\n",
       "    </tr>\n",
       "    <tr>\n",
       "      <th>4</th>\n",
       "      <td>benefit may want read living buddha living chr...</td>\n",
       "      <td>1</td>\n",
       "    </tr>\n",
       "  </tbody>\n",
       "</table>\n",
       "</div>"
      ],
      "text/plain": [
       "                                       clean_comment  category\n",
       "0  family mormon never tried explain still stare ...         1\n",
       "1  buddhism much lot compatible christianity espe...         1\n",
       "2  seriously say thing first get complex explain ...        -1\n",
       "3  learned want teach different focus goal not wr...         0\n",
       "4  benefit may want read living buddha living chr...         1"
      ]
     },
     "execution_count": 34,
     "metadata": {},
     "output_type": "execute_result"
    }
   ],
   "source": [
    "pd.read_csv('reddit_preprocessing.csv').head()"
   ]
  },
  {
   "cell_type": "code",
   "execution_count": null,
   "metadata": {
    "id": "bkTc6t34jCzA"
   },
   "outputs": [],
   "source": []
  }
 ],
 "metadata": {
  "colab": {
   "provenance": []
  },
  "kernelspec": {
   "display_name": "venv",
   "language": "python",
   "name": "python3"
  },
  "language_info": {
   "codemirror_mode": {
    "name": "ipython",
    "version": 3
   },
   "file_extension": ".py",
   "mimetype": "text/x-python",
   "name": "python",
   "nbconvert_exporter": "python",
   "pygments_lexer": "ipython3",
   "version": "3.9.21"
  }
 },
 "nbformat": 4,
 "nbformat_minor": 0
}
